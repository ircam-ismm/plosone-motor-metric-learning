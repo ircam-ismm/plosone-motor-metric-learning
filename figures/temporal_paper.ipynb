{
 "cells": [
  {
   "cell_type": "code",
   "execution_count": 2,
   "id": "c2c88d59",
   "metadata": {},
   "outputs": [],
   "source": [
    "from nbimports import *"
   ]
  },
  {
   "cell_type": "code",
   "execution_count": 3,
   "id": "f80736e2",
   "metadata": {},
   "outputs": [],
   "source": [
    "import nbhelper\n",
    "nbhelper = reload(nbhelper)"
   ]
  },
  {
   "cell_type": "code",
   "execution_count": 4,
   "id": "640ba797",
   "metadata": {},
   "outputs": [],
   "source": [
    "from pandarallel import pandarallel\n",
    "pandarallel.initialize(progress_bar=False, nb_workers=6, verbose=0)"
   ]
  },
  {
   "cell_type": "code",
   "execution_count": 5,
   "id": "7293c365",
   "metadata": {},
   "outputs": [],
   "source": [
    "users, templates, annotations, A, B = nbhelper.load_data()"
   ]
  },
  {
   "cell_type": "markdown",
   "id": "35ed64f6",
   "metadata": {},
   "source": [
    "# load report"
   ]
  },
  {
   "cell_type": "code",
   "execution_count": 6,
   "id": "341e215b",
   "metadata": {},
   "outputs": [],
   "source": [
    "run_uuid = \"f1956943e2c54175aedac690a177c64c\""
   ]
  },
  {
   "cell_type": "code",
   "execution_count": 7,
   "id": "56518d29",
   "metadata": {},
   "outputs": [],
   "source": [
    "report, params = nbhelper.get_report_params_from_runid(run_uuid, report_name=\"report.csv\")"
   ]
  },
  {
   "cell_type": "code",
   "execution_count": 8,
   "id": "dcbf308f",
   "metadata": {},
   "outputs": [
    {
     "data": {
      "text/plain": [
       "<AxesSubplot:>"
      ]
     },
     "execution_count": 8,
     "metadata": {},
     "output_type": "execute_result"
    },
    {
     "data": {
      "image/png": "[encoded data removed]",
      "text/plain": [
       "<Figure size 432x288 with 1 Axes>"
      ]
     },
     "metadata": {
      "needs_background": "light"
     },
     "output_type": "display_data"
    }
   ],
   "source": [
    "fig, ax = plt.subplots()\n",
    "report.filter(regex=\"w.*\").boxplot(ax=ax)"
   ]
  },
  {
   "cell_type": "code",
   "execution_count": 9,
   "id": "881f3eaf",
   "metadata": {},
   "outputs": [],
   "source": [
    "# fig.tight_layout()\n",
    "# fig.savefig(\"./figs/temporal_weights_25.png\")"
   ]
  },
  {
   "cell_type": "code",
   "execution_count": 10,
   "id": "d1f4b271",
   "metadata": {},
   "outputs": [
    {
     "data": {
      "text/plain": [
       "<AxesSubplot:>"
      ]
     },
     "execution_count": 10,
     "metadata": {},
     "output_type": "execute_result"
    },
    {
     "data": {
      "image/png": "[encoded data removed]",
      "text/plain": [
       "<Figure size 432x288 with 1 Axes>"
      ]
     },
     "metadata": {
      "needs_background": "light"
     },
     "output_type": "display_data"
    }
   ],
   "source": [
    "report[['cc_start', 'cc_end']].boxplot()"
   ]
  },
  {
   "cell_type": "markdown",
   "id": "aa528dea",
   "metadata": {},
   "source": [
    "# reproduce results"
   ]
  },
  {
   "cell_type": "code",
   "execution_count": 11,
   "id": "e51fa423",
   "metadata": {},
   "outputs": [],
   "source": [
    "dimensions = ['px0', 'py0', 'pz0', 'px1', 'py1', 'pz1', 'px2', 'py2', 'pz2', 'ax0', 'ay0', 'az0', 'gx0', 'gy0', 'gz0']"
   ]
  },
  {
   "cell_type": "code",
   "execution_count": 12,
   "id": "c88b59c9",
   "metadata": {},
   "outputs": [],
   "source": [
    "def ponderate(arr, weights):\n",
    "    \"\"\"Create an array of shape arr.shape[0] with weights.shape[0] equi-spaced\n",
    "    segments of values weights.\n",
    "    \"\"\"\n",
    "    n_weights = weights.shape[0]\n",
    "    weights = weights.reshape(-1,1)\n",
    "    region_size = arr.shape[0] // n_weights\n",
    "    remainder = arr.shape[0] % n_weights\n",
    "    vec = np.hstack([(weights * np.ones((n_weights, region_size))).reshape(-1),\n",
    "                     weights[-1] * np.ones(remainder)])\n",
    "    return vec"
   ]
  },
  {
   "cell_type": "code",
   "execution_count": 13,
   "id": "e99559e6-4aa1-47d2-9d96-a0a8ceb459ad",
   "metadata": {},
   "outputs": [],
   "source": [
    "import functools\n",
    "@functools.lru_cache(maxsize=2000)\n",
    "def cached_compute(user, day, trial):\n",
    "    \"\"\"Cached compute of the DTW between a motion and a template.\n",
    "    \"\"\"\n",
    "    a = select(users, gesture=1, user=user, day=day, trial=trial)\n",
    "    a = skprep.StandardScaler().fit_transform(a[list(dimensions)])\n",
    "\n",
    "    t = select(templates, template=1, version=0)\n",
    "    t = skprep.StandardScaler().fit_transform(t[list(dimensions)])\n",
    "\n",
    "    da, path_a = fastdtw.fastdtw(a, t, radius=10)\n",
    "    path_a = np.array(path_a)\n",
    "    return a, da, path_a, t"
   ]
  },
  {
   "cell_type": "code",
   "execution_count": 14,
   "id": "f705baed",
   "metadata": {},
   "outputs": [],
   "source": [
    "def compute_dtw_temporal_wrapper(weights):\n",
    "    def fun(row):\n",
    "\n",
    "#         template = select(templates, template=1, version=0)\n",
    "#         a = select(users, gesture=1, user=row['user'], day=row['day_0'], trial=row['rep_0'])\n",
    "#         b = select(users, gesture=1, user=row['user'], day=row['day_1'], trial=row['rep_1'])\n",
    "\n",
    "#         # normalised position\n",
    "#         a = skprep.StandardScaler().fit_transform(a[dimensions])\n",
    "#         b = skprep.StandardScaler().fit_transform(b[dimensions])\n",
    "#         t = skprep.StandardScaler().fit_transform(template[dimensions].iloc[100:])\n",
    "\n",
    "#         da, path_a = fastdtw.fastdtw(a, t, radius=10)\n",
    "#         db, path_b = fastdtw.fastdtw(b, t, radius=10)\n",
    "#         path_a = np.array(path_a)\n",
    "#         path_b = np.array(path_b)\n",
    "\n",
    "        a, _, path_a, t = cached_compute(row['user'], row['day_0'], row['rep_0'])\n",
    "        b, _, path_b, t = cached_compute(row['user'], row['day_1'], row['rep_1'])\n",
    "\n",
    "        # ponderate\n",
    "        vec = ponderate(t, np.arange(weights.shape[0]))\n",
    "\n",
    "        da_ = np.linalg.norm( (a[path_a[:,0]] - t[path_a[:,1]]) , axis=1, ord=1)\n",
    "        df = pd.DataFrame(data=np.vstack([vec[path_a[:, 1]], da_]).T, columns=['s', 'd']).astype({\"s\":int})\n",
    "        da_ = (df.groupby(\"s\").agg(np.sum)['d'] * weights).sum()\n",
    "\n",
    "        db_ = np.linalg.norm( (b[path_b[:,0]] - t[path_b[:,1]]) , axis=1, ord=1)\n",
    "        df = pd.DataFrame(data=np.vstack([vec[path_b[:, 1]], db_]).T, columns=['s', 'd']).astype({\"s\":int})\n",
    "        db_ = (df.groupby(\"s\").agg(np.sum)['d'] * weights).sum()\n",
    "\n",
    "        row['da'] = da_\n",
    "        row['db'] = db_\n",
    "        row['diff'] = da_ - db_\n",
    "\n",
    "        return row\n",
    "    return fun"
   ]
  },
  {
   "cell_type": "code",
   "execution_count": 15,
   "id": "ac021259",
   "metadata": {},
   "outputs": [],
   "source": [
    "fun = compute_dtw_temporal_wrapper(np.ones(25))"
   ]
  },
  {
   "cell_type": "code",
   "execution_count": 16,
   "id": "3308ee26",
   "metadata": {},
   "outputs": [
    {
     "name": "stdout",
     "output_type": "stream",
     "text": [
      "CPU times: user 24.1 s, sys: 144 ms, total: 24.2 s\n",
      "Wall time: 16.1 s\n"
     ]
    }
   ],
   "source": [
    "%%time\n",
    "res_org = annotations.apply(fun, axis=1)"
   ]
  },
  {
   "cell_type": "code",
   "execution_count": 17,
   "id": "3d2d925f",
   "metadata": {},
   "outputs": [],
   "source": [
    "import sklearn.model_selection as skms"
   ]
  },
  {
   "cell_type": "code",
   "execution_count": 18,
   "id": "f5edd8a7",
   "metadata": {},
   "outputs": [],
   "source": [
    "n_splits = int(params[\"cv.n_splits\"])\n",
    "n_repeats = int(params[\"cv.n_repeats\"])\n",
    "random_state = int(params[\"cv.random_state\"])\n",
    "rkf = skms.RepeatedKFold(n_splits=n_splits, n_repeats=n_repeats, random_state=random_state)"
   ]
  },
  {
   "cell_type": "code",
   "execution_count": 19,
   "id": "f897b868",
   "metadata": {},
   "outputs": [
    {
     "name": "stdout",
     "output_type": "stream",
     "text": [
      "0 (array([ 1,  3,  4,  6,  7, 11]), array([ 0,  2,  5,  8,  9, 10]))\n",
      "1 (array([ 0,  2,  5,  8,  9, 10]), array([ 1,  3,  4,  6,  7, 11]))\n",
      "2 (array([ 1,  2,  4,  5,  7, 11]), array([ 0,  3,  6,  8,  9, 10]))\n",
      "3 (array([ 0,  3,  6,  8,  9, 10]), array([ 1,  2,  4,  5,  7, 11]))\n",
      "4 (array([ 0,  2,  5,  8,  9, 11]), array([ 1,  3,  4,  6,  7, 10]))\n",
      "5 (array([ 1,  3,  4,  6,  7, 10]), array([ 0,  2,  5,  8,  9, 11]))\n",
      "6 (array([ 2,  3,  4,  6,  8, 11]), array([ 0,  1,  5,  7,  9, 10]))\n",
      "7 (array([ 0,  1,  5,  7,  9, 10]), array([ 2,  3,  4,  6,  8, 11]))\n",
      "8 (array([ 1,  3,  4,  8,  9, 10]), array([ 0,  2,  5,  6,  7, 11]))\n",
      "9 (array([ 0,  2,  5,  6,  7, 11]), array([ 1,  3,  4,  8,  9, 10]))\n",
      "10 (array([0, 1, 2, 3, 6, 7]), array([ 4,  5,  8,  9, 10, 11]))\n",
      "11 (array([ 4,  5,  8,  9, 10, 11]), array([0, 1, 2, 3, 6, 7]))\n",
      "12 (array([ 1,  3,  5,  8,  9, 10]), array([ 0,  2,  4,  6,  7, 11]))\n",
      "13 (array([ 0,  2,  4,  6,  7, 11]), array([ 1,  3,  5,  8,  9, 10]))\n",
      "14 (array([ 4,  6,  7,  8,  9, 11]), array([ 0,  1,  2,  3,  5, 10]))\n",
      "15 (array([ 0,  1,  2,  3,  5, 10]), array([ 4,  6,  7,  8,  9, 11]))\n"
     ]
    }
   ],
   "source": [
    "for fold_id, (train_ids, test_ids) in enumerate(rkf.split(range(12))):\n",
    "    print(fold_id, (train_ids, test_ids))"
   ]
  },
  {
   "cell_type": "code",
   "execution_count": 20,
   "id": "c3c2343b",
   "metadata": {},
   "outputs": [],
   "source": [
    "user_ids = np.array(list(set(annotations['user'])))"
   ]
  },
  {
   "cell_type": "code",
   "execution_count": 21,
   "id": "feac0da5",
   "metadata": {},
   "outputs": [
    {
     "name": "stdout",
     "output_type": "stream",
     "text": [
      "0 (array([ 1,  3,  4,  6,  7, 11]), array([ 0,  2,  5,  8,  9, 10])) 0.71 0.82\n",
      "1 (array([ 0,  2,  5,  8,  9, 10]), array([ 1,  3,  4,  6,  7, 11])) 0.82 0.71\n",
      "2 (array([ 1,  2,  4,  5,  7, 11]), array([ 0,  3,  6,  8,  9, 10])) 0.75 0.76\n",
      "3 (array([ 0,  3,  6,  8,  9, 10]), array([ 1,  2,  4,  5,  7, 11])) 0.76 0.75\n",
      "4 (array([ 0,  2,  5,  8,  9, 11]), array([ 1,  3,  4,  6,  7, 10])) 0.78 0.76\n",
      "5 (array([ 1,  3,  4,  6,  7, 10]), array([ 0,  2,  5,  8,  9, 11])) 0.76 0.78\n",
      "6 (array([ 2,  3,  4,  6,  8, 11]), array([ 0,  1,  5,  7,  9, 10])) 0.71 0.83\n",
      "7 (array([ 0,  1,  5,  7,  9, 10]), array([ 2,  3,  4,  6,  8, 11])) 0.83 0.71\n",
      "8 (array([ 1,  3,  4,  8,  9, 10]), array([ 0,  2,  5,  6,  7, 11])) 0.74 0.79\n",
      "9 (array([ 0,  2,  5,  6,  7, 11]), array([ 1,  3,  4,  8,  9, 10])) 0.79 0.74\n",
      "10 (array([0, 1, 2, 3, 6, 7]), array([ 4,  5,  8,  9, 10, 11])) 0.70 0.79\n",
      "11 (array([ 4,  5,  8,  9, 10, 11]), array([0, 1, 2, 3, 6, 7])) 0.79 0.70\n",
      "12 (array([ 1,  3,  5,  8,  9, 10]), array([ 0,  2,  4,  6,  7, 11])) 0.75 0.75\n",
      "13 (array([ 0,  2,  4,  6,  7, 11]), array([ 1,  3,  5,  8,  9, 10])) 0.75 0.75\n",
      "14 (array([ 4,  6,  7,  8,  9, 11]), array([ 0,  1,  2,  3,  5, 10])) 0.76 0.75\n",
      "15 (array([ 0,  1,  2,  3,  5, 10]), array([ 4,  6,  7,  8,  9, 11])) 0.75 0.76\n"
     ]
    }
   ],
   "source": [
    "reference_train_test = []\n",
    "\n",
    "for fold_id, (train_ids, test_ids) in enumerate(rkf.split(user_ids)):\n",
    "    \n",
    "    Xtrain = select(res_org.iloc[:90], user=list(user_ids[train_ids]))\n",
    "    Xtest = select(res_org.iloc[:90], user=list(user_ids[test_ids]))\n",
    "    r0, p = sstat.pearsonr(Xtrain['diff'], Xtrain['m'])\n",
    "    r1, p = sstat.pearsonr(Xtest['diff'], Xtest['m'])\n",
    "\n",
    "    print(fold_id, (train_ids, test_ids), \"{:.2f} {:.2f}\".format(r0, r1))\n",
    "    \n",
    "    reference_train_test.append([fold_id, r0, r1])"
   ]
  },
  {
   "cell_type": "code",
   "execution_count": 22,
   "id": "6de931db",
   "metadata": {},
   "outputs": [],
   "source": [
    "reference_train_test = pd.DataFrame(reference_train_test, columns=['fold_id', 'train', 'test'])"
   ]
  },
  {
   "cell_type": "code",
   "execution_count": 23,
   "id": "28798daf-75dc-4e4a-9e64-a1967207a5b7",
   "metadata": {},
   "outputs": [
    {
     "data": {
      "text/plain": [
       "0.759448954167206"
      ]
     },
     "execution_count": 23,
     "metadata": {},
     "output_type": "execute_result"
    }
   ],
   "source": [
    "reference_train_test[\"train\"].mean()"
   ]
  },
  {
   "cell_type": "code",
   "execution_count": 24,
   "id": "9355ecc0",
   "metadata": {},
   "outputs": [
    {
     "data": {
      "text/plain": [
       "Text(0.5, 1.0, '0.75')"
      ]
     },
     "execution_count": 24,
     "metadata": {},
     "output_type": "execute_result"
    },
    {
     "data": {
      "image/png": "[encoded data removed]",
      "text/plain": [
       "<Figure size 432x288 with 1 Axes>"
      ]
     },
     "metadata": {
      "needs_background": "light"
     },
     "output_type": "display_data"
    }
   ],
   "source": [
    "fig, ax = plt.subplots()\n",
    "sns.scatterplot(data=res_org, x='diff', y='m', ax=ax)\n",
    "\n",
    "r, p = sstat.pearsonr(Xtrain['diff'], Xtrain['m'])\n",
    "ax.set_title(\"{:.2f}\".format(r))"
   ]
  },
  {
   "cell_type": "code",
   "execution_count": 25,
   "id": "094c0548",
   "metadata": {},
   "outputs": [
    {
     "data": {
      "text/plain": [
       "<seaborn.axisgrid.FacetGrid at 0x7fc579ee91d0>"
      ]
     },
     "execution_count": 25,
     "metadata": {},
     "output_type": "execute_result"
    },
    {
     "data": {
      "image/png": "[encoded data removed]",
      "text/plain": [
       "<Figure size 418.375x360 with 1 Axes>"
      ]
     },
     "metadata": {
      "needs_background": "light"
     },
     "output_type": "display_data"
    }
   ],
   "source": [
    "sns.displot(data=res_org, x=\"da\", hue=\"user\", palette='tab20')"
   ]
  },
  {
   "cell_type": "code",
   "execution_count": 26,
   "id": "18b06b1c",
   "metadata": {},
   "outputs": [
    {
     "name": "stdout",
     "output_type": "stream",
     "text": [
      "0 (array([ 1,  3,  4,  6,  7, 11]), array([ 0,  2,  5,  8,  9, 10]))\n",
      "1 (array([ 0,  2,  5,  8,  9, 10]), array([ 1,  3,  4,  6,  7, 11]))\n",
      "2 (array([ 1,  2,  4,  5,  7, 11]), array([ 0,  3,  6,  8,  9, 10]))\n",
      "3 (array([ 0,  3,  6,  8,  9, 10]), array([ 1,  2,  4,  5,  7, 11]))\n",
      "4 (array([ 0,  2,  5,  8,  9, 11]), array([ 1,  3,  4,  6,  7, 10]))\n",
      "5 (array([ 1,  3,  4,  6,  7, 10]), array([ 0,  2,  5,  8,  9, 11]))\n",
      "6 (array([ 2,  3,  4,  6,  8, 11]), array([ 0,  1,  5,  7,  9, 10]))\n",
      "7 (array([ 0,  1,  5,  7,  9, 10]), array([ 2,  3,  4,  6,  8, 11]))\n",
      "8 (array([ 1,  3,  4,  8,  9, 10]), array([ 0,  2,  5,  6,  7, 11]))\n",
      "9 (array([ 0,  2,  5,  6,  7, 11]), array([ 1,  3,  4,  8,  9, 10]))\n",
      "10 (array([0, 1, 2, 3, 6, 7]), array([ 4,  5,  8,  9, 10, 11]))\n",
      "11 (array([ 4,  5,  8,  9, 10, 11]), array([0, 1, 2, 3, 6, 7]))\n",
      "12 (array([ 1,  3,  5,  8,  9, 10]), array([ 0,  2,  4,  6,  7, 11]))\n",
      "13 (array([ 0,  2,  4,  6,  7, 11]), array([ 1,  3,  5,  8,  9, 10]))\n",
      "14 (array([ 4,  6,  7,  8,  9, 11]), array([ 0,  1,  2,  3,  5, 10]))\n",
      "15 (array([ 0,  1,  2,  3,  5, 10]), array([ 4,  6,  7,  8,  9, 11]))\n"
     ]
    }
   ],
   "source": [
    "rows = []\n",
    "\n",
    "for fold_id, (train_ids, test_ids) in enumerate(rkf.split(user_ids)):\n",
    "    print(fold_id, (train_ids, test_ids))\n",
    "\n",
    "    Xtrain = select(res_org.iloc[:90], user=list(user_ids[train_ids]))\n",
    "    Xtest = select(res_org.iloc[90:], user=list(user_ids[test_ids]))\n",
    "\n",
    "    r0, p = sstat.pearsonr(Xtrain['diff'], Xtrain['m'])\n",
    "    r1, p = sstat.pearsonr(Xtest['diff'], Xtest['m'])\n",
    "    \n",
    "    weights = report.iloc[fold_id].filter(regex=\"w.*\").values\n",
    "    res = annotations.parallel_apply(compute_dtw_temporal_wrapper(weights), axis=1)\n",
    "    \n",
    "    tmp = select(res.iloc[:90], user=list(user_ids[train_ids]))\n",
    "    r2, p = sstat.pearsonr(tmp['diff'], tmp['m'])\n",
    "    tmp = select(res.iloc[:90], user=list(user_ids[test_ids]))\n",
    "    r3, p = sstat.pearsonr(tmp['diff'], tmp['m'])\n",
    "    \n",
    "    rows.append([r0, r1, r2, r3])"
   ]
  },
  {
   "cell_type": "code",
   "execution_count": 27,
   "id": "9884e2b6",
   "metadata": {},
   "outputs": [
    {
     "data": {
      "text/plain": [
       "<AxesSubplot:>"
      ]
     },
     "execution_count": 27,
     "metadata": {},
     "output_type": "execute_result"
    },
    {
     "data": {
      "image/png": "[encoded data removed]",
      "text/plain": [
       "<Figure size 432x288 with 1 Axes>"
      ]
     },
     "metadata": {
      "needs_background": "light"
     },
     "output_type": "display_data"
    }
   ],
   "source": [
    "pd.DataFrame(rows).boxplot()"
   ]
  },
  {
   "cell_type": "code",
   "execution_count": 28,
   "id": "ca1e82bc",
   "metadata": {},
   "outputs": [],
   "source": [
    "data = pd.DataFrame(rows, columns=['a', 'b', 'c', 'd'])"
   ]
  },
  {
   "cell_type": "code",
   "execution_count": 29,
   "id": "509980d5",
   "metadata": {},
   "outputs": [
    {
     "data": {
      "text/html": [
       "<div>\n",
       "<style scoped>\n",
       "    .dataframe tbody tr th:only-of-type {\n",
       "        vertical-align: middle;\n",
       "    }\n",
       "\n",
       "    .dataframe tbody tr th {\n",
       "        vertical-align: top;\n",
       "    }\n",
       "\n",
       "    .dataframe thead th {\n",
       "        text-align: right;\n",
       "    }\n",
       "</style>\n",
       "<table border=\"1\" class=\"dataframe\">\n",
       "  <thead>\n",
       "    <tr style=\"text-align: right;\">\n",
       "      <th></th>\n",
       "      <th>T</th>\n",
       "      <th>dof</th>\n",
       "      <th>alternative</th>\n",
       "      <th>p-val</th>\n",
       "      <th>CI95%</th>\n",
       "      <th>cohen-d</th>\n",
       "      <th>BF10</th>\n",
       "      <th>power</th>\n",
       "    </tr>\n",
       "  </thead>\n",
       "  <tbody>\n",
       "    <tr>\n",
       "      <th>T-test</th>\n",
       "      <td>-5.110862</td>\n",
       "      <td>30</td>\n",
       "      <td>two-sided</td>\n",
       "      <td>0.000017</td>\n",
       "      <td>[-0.09, -0.04]</td>\n",
       "      <td>1.806962</td>\n",
       "      <td>973.714</td>\n",
       "      <td>0.998566</td>\n",
       "    </tr>\n",
       "  </tbody>\n",
       "</table>\n",
       "</div>"
      ],
      "text/plain": [
       "               T  dof alternative     p-val           CI95%   cohen-d  \\\n",
       "T-test -5.110862   30   two-sided  0.000017  [-0.09, -0.04]  1.806962   \n",
       "\n",
       "           BF10     power  \n",
       "T-test  973.714  0.998566  "
      ]
     },
     "execution_count": 29,
     "metadata": {},
     "output_type": "execute_result"
    }
   ],
   "source": [
    "pg.ttest(data['a'], data['c'])"
   ]
  },
  {
   "cell_type": "code",
   "execution_count": 30,
   "id": "2a314a0c",
   "metadata": {},
   "outputs": [
    {
     "data": {
      "text/html": [
       "<div>\n",
       "<style scoped>\n",
       "    .dataframe tbody tr th:only-of-type {\n",
       "        vertical-align: middle;\n",
       "    }\n",
       "\n",
       "    .dataframe tbody tr th {\n",
       "        vertical-align: top;\n",
       "    }\n",
       "\n",
       "    .dataframe thead th {\n",
       "        text-align: right;\n",
       "    }\n",
       "</style>\n",
       "<table border=\"1\" class=\"dataframe\">\n",
       "  <thead>\n",
       "    <tr style=\"text-align: right;\">\n",
       "      <th></th>\n",
       "      <th>T</th>\n",
       "      <th>dof</th>\n",
       "      <th>alternative</th>\n",
       "      <th>p-val</th>\n",
       "      <th>CI95%</th>\n",
       "      <th>cohen-d</th>\n",
       "      <th>BF10</th>\n",
       "      <th>power</th>\n",
       "    </tr>\n",
       "  </thead>\n",
       "  <tbody>\n",
       "    <tr>\n",
       "      <th>T-test</th>\n",
       "      <td>-2.054233</td>\n",
       "      <td>15</td>\n",
       "      <td>two-sided</td>\n",
       "      <td>0.057809</td>\n",
       "      <td>[-0.07, 0.0]</td>\n",
       "      <td>0.8994</td>\n",
       "      <td>1.344</td>\n",
       "      <td>0.91914</td>\n",
       "    </tr>\n",
       "  </tbody>\n",
       "</table>\n",
       "</div>"
      ],
      "text/plain": [
       "               T  dof alternative     p-val         CI95%  cohen-d   BF10  \\\n",
       "T-test -2.054233   15   two-sided  0.057809  [-0.07, 0.0]   0.8994  1.344   \n",
       "\n",
       "          power  \n",
       "T-test  0.91914  "
      ]
     },
     "execution_count": 30,
     "metadata": {},
     "output_type": "execute_result"
    }
   ],
   "source": [
    "pg.ttest(data['a'], data['d'], paired=True)"
   ]
  },
  {
   "cell_type": "code",
   "execution_count": 31,
   "id": "5a4ba733",
   "metadata": {},
   "outputs": [
    {
     "data": {
      "text/html": [
       "<div>\n",
       "<style scoped>\n",
       "    .dataframe tbody tr th:only-of-type {\n",
       "        vertical-align: middle;\n",
       "    }\n",
       "\n",
       "    .dataframe tbody tr th {\n",
       "        vertical-align: top;\n",
       "    }\n",
       "\n",
       "    .dataframe thead th {\n",
       "        text-align: right;\n",
       "    }\n",
       "</style>\n",
       "<table border=\"1\" class=\"dataframe\">\n",
       "  <thead>\n",
       "    <tr style=\"text-align: right;\">\n",
       "      <th></th>\n",
       "      <th>T</th>\n",
       "      <th>dof</th>\n",
       "      <th>alternative</th>\n",
       "      <th>p-val</th>\n",
       "      <th>CI95%</th>\n",
       "      <th>cohen-d</th>\n",
       "      <th>BF10</th>\n",
       "      <th>power</th>\n",
       "    </tr>\n",
       "  </thead>\n",
       "  <tbody>\n",
       "    <tr>\n",
       "      <th>T-test</th>\n",
       "      <td>-2.543888</td>\n",
       "      <td>30</td>\n",
       "      <td>two-sided</td>\n",
       "      <td>0.016352</td>\n",
       "      <td>[-0.07, -0.01]</td>\n",
       "      <td>0.8994</td>\n",
       "      <td>3.507</td>\n",
       "      <td>0.692112</td>\n",
       "    </tr>\n",
       "  </tbody>\n",
       "</table>\n",
       "</div>"
      ],
      "text/plain": [
       "               T  dof alternative     p-val           CI95%  cohen-d   BF10  \\\n",
       "T-test -2.543888   30   two-sided  0.016352  [-0.07, -0.01]   0.8994  3.507   \n",
       "\n",
       "           power  \n",
       "T-test  0.692112  "
      ]
     },
     "execution_count": 31,
     "metadata": {},
     "output_type": "execute_result"
    }
   ],
   "source": [
    "pg.ttest(data['a'], data['d'], paired=False)"
   ]
  },
  {
   "cell_type": "code",
   "execution_count": 32,
   "id": "f81d5fc9",
   "metadata": {},
   "outputs": [
    {
     "data": {
      "text/plain": [
       "(0.759448954167206, 0.7959861410773746)"
      ]
     },
     "execution_count": 32,
     "metadata": {},
     "output_type": "execute_result"
    }
   ],
   "source": [
    "data['a'].mean(), data['d'].mean()"
   ]
  },
  {
   "cell_type": "code",
   "execution_count": 33,
   "id": "e8aab234-8e69-4ed8-a5bf-0e81ddc7fb78",
   "metadata": {},
   "outputs": [
    {
     "data": {
      "text/plain": [
       "0.048110128679068935"
      ]
     },
     "execution_count": 33,
     "metadata": {},
     "output_type": "execute_result"
    }
   ],
   "source": [
    "(data['d'].mean() - data['a'].mean()) / data['a'].mean()"
   ]
  },
  {
   "cell_type": "code",
   "execution_count": 34,
   "id": "dfa55e6b-7cd8-404b-b30d-38cce62b440a",
   "metadata": {},
   "outputs": [
    {
     "data": {
      "text/plain": [
       "(0.037538838144161396, 0.04349074280761291)"
      ]
     },
     "execution_count": 34,
     "metadata": {},
     "output_type": "execute_result"
    }
   ],
   "source": [
    "data['a'].std(), data['d'].std()"
   ]
  },
  {
   "cell_type": "markdown",
   "id": "d36c69c3",
   "metadata": {},
   "source": [
    "# sweep of n_regions"
   ]
  },
  {
   "cell_type": "code",
   "execution_count": 35,
   "id": "50c9f34c-f0b0-4a0f-8b5c-d29674dedc2b",
   "metadata": {},
   "outputs": [],
   "source": [
    "experiment_id = \"14\""
   ]
  },
  {
   "cell_type": "code",
   "execution_count": 36,
   "id": "94b71502",
   "metadata": {},
   "outputs": [],
   "source": [
    "mc = mlflow.tracking.MlflowClient(tracking_uri=\"../../mlruns\")"
   ]
  },
  {
   "cell_type": "code",
   "execution_count": 37,
   "id": "a4a42b98",
   "metadata": {},
   "outputs": [],
   "source": [
    "datas=[]\n",
    "for run_info in mc.list_run_infos(experiment_id):\n",
    "    run = mc.get_run(run_info.run_id)\n",
    "    metrics = run.data.metrics\n",
    "    params = run.data.params\n",
    "    data = {**{'run_id':run_info.run_id}, **params, **metrics}   \n",
    "    datas.append(data)\n",
    "df = pd.DataFrame(datas)"
   ]
  },
  {
   "cell_type": "code",
   "execution_count": 38,
   "id": "a19bce53",
   "metadata": {},
   "outputs": [
    {
     "data": {
      "text/html": [
       "<div>\n",
       "<style scoped>\n",
       "    .dataframe tbody tr th:only-of-type {\n",
       "        vertical-align: middle;\n",
       "    }\n",
       "\n",
       "    .dataframe tbody tr th {\n",
       "        vertical-align: top;\n",
       "    }\n",
       "\n",
       "    .dataframe thead th {\n",
       "        text-align: right;\n",
       "    }\n",
       "</style>\n",
       "<table border=\"1\" class=\"dataframe\">\n",
       "  <thead>\n",
       "    <tr style=\"text-align: right;\">\n",
       "      <th></th>\n",
       "      <th>run_id</th>\n",
       "      <th>dtw.average</th>\n",
       "      <th>dtw.radius</th>\n",
       "      <th>n_region</th>\n",
       "      <th>savgol.polyorder</th>\n",
       "      <th>cross_validation</th>\n",
       "      <th>opt.n_regions</th>\n",
       "      <th>cv.test_size</th>\n",
       "      <th>opt.n_iter</th>\n",
       "      <th>preprocessing.derivatives</th>\n",
       "      <th>...</th>\n",
       "      <th>annotations</th>\n",
       "      <th>cv.n_repeats</th>\n",
       "      <th>data.normalise</th>\n",
       "      <th>cc_start</th>\n",
       "      <th>cc_all</th>\n",
       "      <th>diff_rel</th>\n",
       "      <th>cc_init</th>\n",
       "      <th>cc_end</th>\n",
       "      <th>p-value</th>\n",
       "      <th>power</th>\n",
       "    </tr>\n",
       "  </thead>\n",
       "  <tbody>\n",
       "    <tr>\n",
       "      <th>0</th>\n",
       "      <td>e0dec2a01c4d414f82dc4c52c2c1138e</td>\n",
       "      <td>True</td>\n",
       "      <td>10</td>\n",
       "      <td>80</td>\n",
       "      <td>3</td>\n",
       "      <td>True</td>\n",
       "      <td>[2, 5, 7, 12, 15, 20, 25, 30, 40, 50, 80]</td>\n",
       "      <td>0.5</td>\n",
       "      <td>10</td>\n",
       "      <td>2</td>\n",
       "      <td>...</td>\n",
       "      <td>all</td>\n",
       "      <td>8</td>\n",
       "      <td>True</td>\n",
       "      <td>0.610857</td>\n",
       "      <td>0.139610</td>\n",
       "      <td>0.057159</td>\n",
       "      <td>0.179683</td>\n",
       "      <td>0.645773</td>\n",
       "      <td>0.058092</td>\n",
       "      <td>0.478983</td>\n",
       "    </tr>\n",
       "    <tr>\n",
       "      <th>1</th>\n",
       "      <td>059df555027e4bd981cb0ad24fbb3558</td>\n",
       "      <td>True</td>\n",
       "      <td>10</td>\n",
       "      <td>50</td>\n",
       "      <td>3</td>\n",
       "      <td>True</td>\n",
       "      <td>[2, 5, 7, 12, 15, 20, 25, 30, 40, 50, 80]</td>\n",
       "      <td>0.5</td>\n",
       "      <td>10</td>\n",
       "      <td>2</td>\n",
       "      <td>...</td>\n",
       "      <td>all</td>\n",
       "      <td>8</td>\n",
       "      <td>True</td>\n",
       "      <td>0.610857</td>\n",
       "      <td>0.141078</td>\n",
       "      <td>0.067892</td>\n",
       "      <td>0.179683</td>\n",
       "      <td>0.652330</td>\n",
       "      <td>0.021820</td>\n",
       "      <td>0.648562</td>\n",
       "    </tr>\n",
       "    <tr>\n",
       "      <th>2</th>\n",
       "      <td>44ec8851c1da4153a8f6f33468b9559a</td>\n",
       "      <td>True</td>\n",
       "      <td>10</td>\n",
       "      <td>40</td>\n",
       "      <td>3</td>\n",
       "      <td>True</td>\n",
       "      <td>[2, 5, 7, 12, 15, 20, 25, 30, 40, 50, 80]</td>\n",
       "      <td>0.5</td>\n",
       "      <td>10</td>\n",
       "      <td>2</td>\n",
       "      <td>...</td>\n",
       "      <td>all</td>\n",
       "      <td>8</td>\n",
       "      <td>True</td>\n",
       "      <td>0.610857</td>\n",
       "      <td>0.142426</td>\n",
       "      <td>0.069794</td>\n",
       "      <td>0.179683</td>\n",
       "      <td>0.653491</td>\n",
       "      <td>0.018903</td>\n",
       "      <td>0.670641</td>\n",
       "    </tr>\n",
       "    <tr>\n",
       "      <th>3</th>\n",
       "      <td>fe91c1dc790f4a599eba1491c3365fb0</td>\n",
       "      <td>True</td>\n",
       "      <td>10</td>\n",
       "      <td>30</td>\n",
       "      <td>3</td>\n",
       "      <td>True</td>\n",
       "      <td>[2, 5, 7, 12, 15, 20, 25, 30, 40, 50, 80]</td>\n",
       "      <td>0.5</td>\n",
       "      <td>10</td>\n",
       "      <td>2</td>\n",
       "      <td>...</td>\n",
       "      <td>all</td>\n",
       "      <td>8</td>\n",
       "      <td>True</td>\n",
       "      <td>0.610857</td>\n",
       "      <td>0.143040</td>\n",
       "      <td>0.082973</td>\n",
       "      <td>0.179683</td>\n",
       "      <td>0.661542</td>\n",
       "      <td>0.006514</td>\n",
       "      <td>0.807739</td>\n",
       "    </tr>\n",
       "    <tr>\n",
       "      <th>4</th>\n",
       "      <td>f1956943e2c54175aedac690a177c64c</td>\n",
       "      <td>True</td>\n",
       "      <td>10</td>\n",
       "      <td>25</td>\n",
       "      <td>3</td>\n",
       "      <td>True</td>\n",
       "      <td>[2, 5, 7, 12, 15, 20, 25, 30, 40, 50, 80]</td>\n",
       "      <td>0.5</td>\n",
       "      <td>10</td>\n",
       "      <td>2</td>\n",
       "      <td>...</td>\n",
       "      <td>all</td>\n",
       "      <td>8</td>\n",
       "      <td>True</td>\n",
       "      <td>0.610857</td>\n",
       "      <td>0.144661</td>\n",
       "      <td>0.076565</td>\n",
       "      <td>0.179683</td>\n",
       "      <td>0.657627</td>\n",
       "      <td>0.010143</td>\n",
       "      <td>0.756613</td>\n",
       "    </tr>\n",
       "  </tbody>\n",
       "</table>\n",
       "<p>5 rows × 29 columns</p>\n",
       "</div>"
      ],
      "text/plain": [
       "                             run_id dtw.average dtw.radius n_region  \\\n",
       "0  e0dec2a01c4d414f82dc4c52c2c1138e        True         10       80   \n",
       "1  059df555027e4bd981cb0ad24fbb3558        True         10       50   \n",
       "2  44ec8851c1da4153a8f6f33468b9559a        True         10       40   \n",
       "3  fe91c1dc790f4a599eba1491c3365fb0        True         10       30   \n",
       "4  f1956943e2c54175aedac690a177c64c        True         10       25   \n",
       "\n",
       "  savgol.polyorder cross_validation  \\\n",
       "0                3             True   \n",
       "1                3             True   \n",
       "2                3             True   \n",
       "3                3             True   \n",
       "4                3             True   \n",
       "\n",
       "                               opt.n_regions cv.test_size opt.n_iter  \\\n",
       "0  [2, 5, 7, 12, 15, 20, 25, 30, 40, 50, 80]          0.5         10   \n",
       "1  [2, 5, 7, 12, 15, 20, 25, 30, 40, 50, 80]          0.5         10   \n",
       "2  [2, 5, 7, 12, 15, 20, 25, 30, 40, 50, 80]          0.5         10   \n",
       "3  [2, 5, 7, 12, 15, 20, 25, 30, 40, 50, 80]          0.5         10   \n",
       "4  [2, 5, 7, 12, 15, 20, 25, 30, 40, 50, 80]          0.5         10   \n",
       "\n",
       "  preprocessing.derivatives  ... annotations cv.n_repeats data.normalise  \\\n",
       "0                         2  ...         all            8           True   \n",
       "1                         2  ...         all            8           True   \n",
       "2                         2  ...         all            8           True   \n",
       "3                         2  ...         all            8           True   \n",
       "4                         2  ...         all            8           True   \n",
       "\n",
       "   cc_start    cc_all  diff_rel   cc_init    cc_end   p-value     power  \n",
       "0  0.610857  0.139610  0.057159  0.179683  0.645773  0.058092  0.478983  \n",
       "1  0.610857  0.141078  0.067892  0.179683  0.652330  0.021820  0.648562  \n",
       "2  0.610857  0.142426  0.069794  0.179683  0.653491  0.018903  0.670641  \n",
       "3  0.610857  0.143040  0.082973  0.179683  0.661542  0.006514  0.807739  \n",
       "4  0.610857  0.144661  0.076565  0.179683  0.657627  0.010143  0.756613  \n",
       "\n",
       "[5 rows x 29 columns]"
      ]
     },
     "execution_count": 38,
     "metadata": {},
     "output_type": "execute_result"
    }
   ],
   "source": [
    "df.head()"
   ]
  },
  {
   "cell_type": "code",
   "execution_count": 39,
   "id": "e47ec3b3",
   "metadata": {},
   "outputs": [
    {
     "name": "stdout",
     "output_type": "stream",
     "text": [
      "0 e0dec2a01c4d414f82dc4c52c2c1138e\n",
      "1 059df555027e4bd981cb0ad24fbb3558\n",
      "2 44ec8851c1da4153a8f6f33468b9559a\n",
      "3 fe91c1dc790f4a599eba1491c3365fb0\n",
      "4 f1956943e2c54175aedac690a177c64c\n",
      "5 46c081cada534f47ae8bd4cb6170e924\n",
      "6 7109951ce0a04d6baaf9b38571183fff\n",
      "7 9583c595c70a494190a8616ebe1c5f9b\n",
      "8 1c243c05580b4093a82e496a70f96780\n",
      "9 53f7661ed28946fda2cecafcdc7f7baf\n",
      "10 2519e36cd7a1412ca8d3811bc429b311\n",
      "CPU times: user 2.35 s, sys: 8.87 s, total: 11.2 s\n",
      "Wall time: 55.5 s\n"
     ]
    }
   ],
   "source": [
    "%%time\n",
    "rows = []\n",
    "\n",
    "for i, run_info in enumerate(mc.list_run_infos(experiment_id)):\n",
    "    report, params = nbhelper.get_report_params_from_runid(run_info.run_id, report_name=\"report.csv\")\n",
    "    \n",
    "    print(i, run_info.run_id)\n",
    "    \n",
    "    for fold_id, (train_ids, test_ids) in enumerate(rkf.split(user_ids)):\n",
    "\n",
    "        weights = report.iloc[fold_id].filter(regex=\"w.*\").values\n",
    "        res = annotations.parallel_apply(compute_dtw_temporal_wrapper(weights), axis=1)\n",
    "\n",
    "        tmp = select(res.iloc[:90], user=list(user_ids[train_ids]))\n",
    "        r2, p = sstat.pearsonr(tmp['diff'], tmp['m'])\n",
    "        tmp = select(res.iloc[:90], user=list(user_ids[test_ids]))\n",
    "        r3, p = sstat.pearsonr(tmp['diff'], tmp['m'])\n",
    "\n",
    "        rows.append([params['n_region'], fold_id, r2, r3])"
   ]
  },
  {
   "cell_type": "code",
   "execution_count": 40,
   "id": "af7576df",
   "metadata": {},
   "outputs": [],
   "source": [
    "df = pd.DataFrame(data=rows, columns=['n_region', 'fold_id', 'train', 'test'])\n",
    "df['n_region'] = df['n_region'].astype(int)"
   ]
  },
  {
   "cell_type": "code",
   "execution_count": 41,
   "id": "6a7c1adb-e849-4b0a-8c6d-f7a67d1b413e",
   "metadata": {
    "tags": []
   },
   "outputs": [
    {
     "data": {
      "text/html": [
       "<div>\n",
       "<style scoped>\n",
       "    .dataframe tbody tr th:only-of-type {\n",
       "        vertical-align: middle;\n",
       "    }\n",
       "\n",
       "    .dataframe tbody tr th {\n",
       "        vertical-align: top;\n",
       "    }\n",
       "\n",
       "    .dataframe thead th {\n",
       "        text-align: right;\n",
       "    }\n",
       "</style>\n",
       "<table border=\"1\" class=\"dataframe\">\n",
       "  <thead>\n",
       "    <tr style=\"text-align: right;\">\n",
       "      <th></th>\n",
       "      <th>n_region</th>\n",
       "      <th>fold_id</th>\n",
       "      <th>train</th>\n",
       "      <th>test</th>\n",
       "    </tr>\n",
       "  </thead>\n",
       "  <tbody>\n",
       "    <tr>\n",
       "      <th>0</th>\n",
       "      <td>80</td>\n",
       "      <td>0</td>\n",
       "      <td>0.781024</td>\n",
       "      <td>0.837660</td>\n",
       "    </tr>\n",
       "    <tr>\n",
       "      <th>1</th>\n",
       "      <td>80</td>\n",
       "      <td>1</td>\n",
       "      <td>0.898794</td>\n",
       "      <td>0.741871</td>\n",
       "    </tr>\n",
       "    <tr>\n",
       "      <th>2</th>\n",
       "      <td>80</td>\n",
       "      <td>2</td>\n",
       "      <td>0.793386</td>\n",
       "      <td>0.817545</td>\n",
       "    </tr>\n",
       "    <tr>\n",
       "      <th>3</th>\n",
       "      <td>80</td>\n",
       "      <td>3</td>\n",
       "      <td>0.876932</td>\n",
       "      <td>0.703029</td>\n",
       "    </tr>\n",
       "    <tr>\n",
       "      <th>4</th>\n",
       "      <td>80</td>\n",
       "      <td>4</td>\n",
       "      <td>0.872163</td>\n",
       "      <td>0.787890</td>\n",
       "    </tr>\n",
       "    <tr>\n",
       "      <th>...</th>\n",
       "      <td>...</td>\n",
       "      <td>...</td>\n",
       "      <td>...</td>\n",
       "      <td>...</td>\n",
       "    </tr>\n",
       "    <tr>\n",
       "      <th>171</th>\n",
       "      <td>2</td>\n",
       "      <td>11</td>\n",
       "      <td>0.790273</td>\n",
       "      <td>0.697478</td>\n",
       "    </tr>\n",
       "    <tr>\n",
       "      <th>172</th>\n",
       "      <td>2</td>\n",
       "      <td>12</td>\n",
       "      <td>0.748898</td>\n",
       "      <td>0.753821</td>\n",
       "    </tr>\n",
       "    <tr>\n",
       "      <th>173</th>\n",
       "      <td>2</td>\n",
       "      <td>13</td>\n",
       "      <td>0.753807</td>\n",
       "      <td>0.749148</td>\n",
       "    </tr>\n",
       "    <tr>\n",
       "      <th>174</th>\n",
       "      <td>2</td>\n",
       "      <td>14</td>\n",
       "      <td>0.760800</td>\n",
       "      <td>0.748578</td>\n",
       "    </tr>\n",
       "    <tr>\n",
       "      <th>175</th>\n",
       "      <td>2</td>\n",
       "      <td>15</td>\n",
       "      <td>0.748071</td>\n",
       "      <td>0.761010</td>\n",
       "    </tr>\n",
       "  </tbody>\n",
       "</table>\n",
       "<p>176 rows × 4 columns</p>\n",
       "</div>"
      ],
      "text/plain": [
       "     n_region  fold_id     train      test\n",
       "0          80        0  0.781024  0.837660\n",
       "1          80        1  0.898794  0.741871\n",
       "2          80        2  0.793386  0.817545\n",
       "3          80        3  0.876932  0.703029\n",
       "4          80        4  0.872163  0.787890\n",
       "..        ...      ...       ...       ...\n",
       "171         2       11  0.790273  0.697478\n",
       "172         2       12  0.748898  0.753821\n",
       "173         2       13  0.753807  0.749148\n",
       "174         2       14  0.760800  0.748578\n",
       "175         2       15  0.748071  0.761010\n",
       "\n",
       "[176 rows x 4 columns]"
      ]
     },
     "execution_count": 41,
     "metadata": {},
     "output_type": "execute_result"
    }
   ],
   "source": [
    "df"
   ]
  },
  {
   "cell_type": "code",
   "execution_count": 42,
   "id": "f91bd02e-7019-44c1-a3ec-6dcc9689eaae",
   "metadata": {},
   "outputs": [],
   "source": [
    "N = len(mc.list_run_infos(experiment_id))\n",
    "M = n_splits * n_repeats"
   ]
  },
  {
   "cell_type": "code",
   "execution_count": 43,
   "id": "3081df71",
   "metadata": {},
   "outputs": [],
   "source": [
    "df['ref'] = np.repeat(reference_train_test['test'].values, N).reshape(M, -1).T.reshape(-1)"
   ]
  },
  {
   "cell_type": "code",
   "execution_count": 44,
   "id": "13e16932-719c-489d-87fa-0d7d046ab90a",
   "metadata": {
    "tags": []
   },
   "outputs": [
    {
     "data": {
      "text/html": [
       "<div>\n",
       "<style scoped>\n",
       "    .dataframe tbody tr th:only-of-type {\n",
       "        vertical-align: middle;\n",
       "    }\n",
       "\n",
       "    .dataframe tbody tr th {\n",
       "        vertical-align: top;\n",
       "    }\n",
       "\n",
       "    .dataframe thead th {\n",
       "        text-align: right;\n",
       "    }\n",
       "</style>\n",
       "<table border=\"1\" class=\"dataframe\">\n",
       "  <thead>\n",
       "    <tr style=\"text-align: right;\">\n",
       "      <th></th>\n",
       "      <th>n_region</th>\n",
       "      <th>fold_id</th>\n",
       "      <th>train</th>\n",
       "      <th>test</th>\n",
       "      <th>ref</th>\n",
       "    </tr>\n",
       "  </thead>\n",
       "  <tbody>\n",
       "    <tr>\n",
       "      <th>0</th>\n",
       "      <td>80</td>\n",
       "      <td>0</td>\n",
       "      <td>0.781024</td>\n",
       "      <td>0.837660</td>\n",
       "      <td>0.823775</td>\n",
       "    </tr>\n",
       "    <tr>\n",
       "      <th>1</th>\n",
       "      <td>80</td>\n",
       "      <td>1</td>\n",
       "      <td>0.898794</td>\n",
       "      <td>0.741871</td>\n",
       "      <td>0.707412</td>\n",
       "    </tr>\n",
       "    <tr>\n",
       "      <th>2</th>\n",
       "      <td>80</td>\n",
       "      <td>2</td>\n",
       "      <td>0.793386</td>\n",
       "      <td>0.817545</td>\n",
       "      <td>0.756364</td>\n",
       "    </tr>\n",
       "    <tr>\n",
       "      <th>3</th>\n",
       "      <td>80</td>\n",
       "      <td>3</td>\n",
       "      <td>0.876932</td>\n",
       "      <td>0.703029</td>\n",
       "      <td>0.749269</td>\n",
       "    </tr>\n",
       "    <tr>\n",
       "      <th>4</th>\n",
       "      <td>80</td>\n",
       "      <td>4</td>\n",
       "      <td>0.872163</td>\n",
       "      <td>0.787890</td>\n",
       "      <td>0.762423</td>\n",
       "    </tr>\n",
       "    <tr>\n",
       "      <th>...</th>\n",
       "      <td>...</td>\n",
       "      <td>...</td>\n",
       "      <td>...</td>\n",
       "      <td>...</td>\n",
       "      <td>...</td>\n",
       "    </tr>\n",
       "    <tr>\n",
       "      <th>171</th>\n",
       "      <td>2</td>\n",
       "      <td>11</td>\n",
       "      <td>0.790273</td>\n",
       "      <td>0.697478</td>\n",
       "      <td>0.696727</td>\n",
       "    </tr>\n",
       "    <tr>\n",
       "      <th>172</th>\n",
       "      <td>2</td>\n",
       "      <td>12</td>\n",
       "      <td>0.748898</td>\n",
       "      <td>0.753821</td>\n",
       "      <td>0.753829</td>\n",
       "    </tr>\n",
       "    <tr>\n",
       "      <th>173</th>\n",
       "      <td>2</td>\n",
       "      <td>13</td>\n",
       "      <td>0.753807</td>\n",
       "      <td>0.749148</td>\n",
       "      <td>0.748528</td>\n",
       "    </tr>\n",
       "    <tr>\n",
       "      <th>174</th>\n",
       "      <td>2</td>\n",
       "      <td>14</td>\n",
       "      <td>0.760800</td>\n",
       "      <td>0.748578</td>\n",
       "      <td>0.747053</td>\n",
       "    </tr>\n",
       "    <tr>\n",
       "      <th>175</th>\n",
       "      <td>2</td>\n",
       "      <td>15</td>\n",
       "      <td>0.748071</td>\n",
       "      <td>0.761010</td>\n",
       "      <td>0.761415</td>\n",
       "    </tr>\n",
       "  </tbody>\n",
       "</table>\n",
       "<p>176 rows × 5 columns</p>\n",
       "</div>"
      ],
      "text/plain": [
       "     n_region  fold_id     train      test       ref\n",
       "0          80        0  0.781024  0.837660  0.823775\n",
       "1          80        1  0.898794  0.741871  0.707412\n",
       "2          80        2  0.793386  0.817545  0.756364\n",
       "3          80        3  0.876932  0.703029  0.749269\n",
       "4          80        4  0.872163  0.787890  0.762423\n",
       "..        ...      ...       ...       ...       ...\n",
       "171         2       11  0.790273  0.697478  0.696727\n",
       "172         2       12  0.748898  0.753821  0.753829\n",
       "173         2       13  0.753807  0.749148  0.748528\n",
       "174         2       14  0.760800  0.748578  0.747053\n",
       "175         2       15  0.748071  0.761010  0.761415\n",
       "\n",
       "[176 rows x 5 columns]"
      ]
     },
     "execution_count": 44,
     "metadata": {},
     "output_type": "execute_result"
    }
   ],
   "source": [
    "df"
   ]
  },
  {
   "cell_type": "code",
   "execution_count": 43,
   "id": "e51601ed",
   "metadata": {},
   "outputs": [
    {
     "data": {
      "image/png": "[encoded data removed]",
      "text/plain": [
       "<Figure size 432x288 with 1 Axes>"
      ]
     },
     "metadata": {
      "needs_background": "light"
     },
     "output_type": "display_data"
    }
   ],
   "source": [
    "fig, ax = plt.subplots()\n",
    "sns.lineplot(data=df, x='n_region', y='train', ax=ax)\n",
    "sns.lineplot(data=df, x='n_region', y='test', ax=ax)\n",
    "sns.lineplot(data=df, x='n_region', y='ref', color='black', ax=ax)\n",
    "ax.set_ylabel(\"c\")\n",
    "ax.grid()"
   ]
  },
  {
   "cell_type": "code",
   "execution_count": 44,
   "id": "699251b8",
   "metadata": {},
   "outputs": [],
   "source": [
    "df_melt = df.melt(id_vars=['n_region', 'fold_id'], value_vars=['ref', 'test', 'train'])"
   ]
  },
  {
   "cell_type": "code",
   "execution_count": 45,
   "id": "0f1d2042",
   "metadata": {
    "collapsed": true,
    "jupyter": {
     "outputs_hidden": true
    },
    "tags": []
   },
   "outputs": [
    {
     "data": {
      "text/html": [
       "<div>\n",
       "<style scoped>\n",
       "    .dataframe tbody tr th:only-of-type {\n",
       "        vertical-align: middle;\n",
       "    }\n",
       "\n",
       "    .dataframe tbody tr th {\n",
       "        vertical-align: top;\n",
       "    }\n",
       "\n",
       "    .dataframe thead th {\n",
       "        text-align: right;\n",
       "    }\n",
       "</style>\n",
       "<table border=\"1\" class=\"dataframe\">\n",
       "  <thead>\n",
       "    <tr style=\"text-align: right;\">\n",
       "      <th></th>\n",
       "      <th>n_region</th>\n",
       "      <th>variable</th>\n",
       "      <th>value</th>\n",
       "    </tr>\n",
       "  </thead>\n",
       "  <tbody>\n",
       "    <tr>\n",
       "      <th>0</th>\n",
       "      <td>2</td>\n",
       "      <td>ref</td>\n",
       "      <td>0.759449</td>\n",
       "    </tr>\n",
       "    <tr>\n",
       "      <th>1</th>\n",
       "      <td>2</td>\n",
       "      <td>test</td>\n",
       "      <td>0.759656</td>\n",
       "    </tr>\n",
       "    <tr>\n",
       "      <th>2</th>\n",
       "      <td>2</td>\n",
       "      <td>train</td>\n",
       "      <td>0.760002</td>\n",
       "    </tr>\n",
       "    <tr>\n",
       "      <th>3</th>\n",
       "      <td>5</td>\n",
       "      <td>ref</td>\n",
       "      <td>0.759449</td>\n",
       "    </tr>\n",
       "    <tr>\n",
       "      <th>4</th>\n",
       "      <td>5</td>\n",
       "      <td>test</td>\n",
       "      <td>0.754458</td>\n",
       "    </tr>\n",
       "    <tr>\n",
       "      <th>5</th>\n",
       "      <td>5</td>\n",
       "      <td>train</td>\n",
       "      <td>0.789562</td>\n",
       "    </tr>\n",
       "    <tr>\n",
       "      <th>6</th>\n",
       "      <td>7</td>\n",
       "      <td>ref</td>\n",
       "      <td>0.759449</td>\n",
       "    </tr>\n",
       "    <tr>\n",
       "      <th>7</th>\n",
       "      <td>7</td>\n",
       "      <td>test</td>\n",
       "      <td>0.759553</td>\n",
       "    </tr>\n",
       "    <tr>\n",
       "      <th>8</th>\n",
       "      <td>7</td>\n",
       "      <td>train</td>\n",
       "      <td>0.784211</td>\n",
       "    </tr>\n",
       "    <tr>\n",
       "      <th>9</th>\n",
       "      <td>12</td>\n",
       "      <td>ref</td>\n",
       "      <td>0.759449</td>\n",
       "    </tr>\n",
       "    <tr>\n",
       "      <th>10</th>\n",
       "      <td>12</td>\n",
       "      <td>test</td>\n",
       "      <td>0.787798</td>\n",
       "    </tr>\n",
       "    <tr>\n",
       "      <th>11</th>\n",
       "      <td>12</td>\n",
       "      <td>train</td>\n",
       "      <td>0.817679</td>\n",
       "    </tr>\n",
       "    <tr>\n",
       "      <th>12</th>\n",
       "      <td>15</td>\n",
       "      <td>ref</td>\n",
       "      <td>0.759449</td>\n",
       "    </tr>\n",
       "    <tr>\n",
       "      <th>13</th>\n",
       "      <td>15</td>\n",
       "      <td>test</td>\n",
       "      <td>0.785149</td>\n",
       "    </tr>\n",
       "    <tr>\n",
       "      <th>14</th>\n",
       "      <td>15</td>\n",
       "      <td>train</td>\n",
       "      <td>0.822849</td>\n",
       "    </tr>\n",
       "    <tr>\n",
       "      <th>15</th>\n",
       "      <td>20</td>\n",
       "      <td>ref</td>\n",
       "      <td>0.759449</td>\n",
       "    </tr>\n",
       "    <tr>\n",
       "      <th>16</th>\n",
       "      <td>20</td>\n",
       "      <td>test</td>\n",
       "      <td>0.790620</td>\n",
       "    </tr>\n",
       "    <tr>\n",
       "      <th>17</th>\n",
       "      <td>20</td>\n",
       "      <td>train</td>\n",
       "      <td>0.822683</td>\n",
       "    </tr>\n",
       "    <tr>\n",
       "      <th>18</th>\n",
       "      <td>25</td>\n",
       "      <td>ref</td>\n",
       "      <td>0.759449</td>\n",
       "    </tr>\n",
       "    <tr>\n",
       "      <th>19</th>\n",
       "      <td>25</td>\n",
       "      <td>test</td>\n",
       "      <td>0.795986</td>\n",
       "    </tr>\n",
       "    <tr>\n",
       "      <th>20</th>\n",
       "      <td>25</td>\n",
       "      <td>train</td>\n",
       "      <td>0.825404</td>\n",
       "    </tr>\n",
       "    <tr>\n",
       "      <th>21</th>\n",
       "      <td>30</td>\n",
       "      <td>ref</td>\n",
       "      <td>0.759449</td>\n",
       "    </tr>\n",
       "    <tr>\n",
       "      <th>22</th>\n",
       "      <td>30</td>\n",
       "      <td>test</td>\n",
       "      <td>0.791462</td>\n",
       "    </tr>\n",
       "    <tr>\n",
       "      <th>23</th>\n",
       "      <td>30</td>\n",
       "      <td>train</td>\n",
       "      <td>0.830859</td>\n",
       "    </tr>\n",
       "    <tr>\n",
       "      <th>24</th>\n",
       "      <td>40</td>\n",
       "      <td>ref</td>\n",
       "      <td>0.759449</td>\n",
       "    </tr>\n",
       "    <tr>\n",
       "      <th>25</th>\n",
       "      <td>40</td>\n",
       "      <td>test</td>\n",
       "      <td>0.786862</td>\n",
       "    </tr>\n",
       "    <tr>\n",
       "      <th>26</th>\n",
       "      <td>40</td>\n",
       "      <td>train</td>\n",
       "      <td>0.835628</td>\n",
       "    </tr>\n",
       "    <tr>\n",
       "      <th>27</th>\n",
       "      <td>50</td>\n",
       "      <td>ref</td>\n",
       "      <td>0.759449</td>\n",
       "    </tr>\n",
       "    <tr>\n",
       "      <th>28</th>\n",
       "      <td>50</td>\n",
       "      <td>test</td>\n",
       "      <td>0.783011</td>\n",
       "    </tr>\n",
       "    <tr>\n",
       "      <th>29</th>\n",
       "      <td>50</td>\n",
       "      <td>train</td>\n",
       "      <td>0.834611</td>\n",
       "    </tr>\n",
       "    <tr>\n",
       "      <th>30</th>\n",
       "      <td>80</td>\n",
       "      <td>ref</td>\n",
       "      <td>0.759449</td>\n",
       "    </tr>\n",
       "    <tr>\n",
       "      <th>31</th>\n",
       "      <td>80</td>\n",
       "      <td>test</td>\n",
       "      <td>0.782531</td>\n",
       "    </tr>\n",
       "    <tr>\n",
       "      <th>32</th>\n",
       "      <td>80</td>\n",
       "      <td>train</td>\n",
       "      <td>0.846469</td>\n",
       "    </tr>\n",
       "  </tbody>\n",
       "</table>\n",
       "</div>"
      ],
      "text/plain": [
       "    n_region variable     value\n",
       "0          2      ref  0.759449\n",
       "1          2     test  0.759656\n",
       "2          2    train  0.760002\n",
       "3          5      ref  0.759449\n",
       "4          5     test  0.754458\n",
       "5          5    train  0.789562\n",
       "6          7      ref  0.759449\n",
       "7          7     test  0.759553\n",
       "8          7    train  0.784211\n",
       "9         12      ref  0.759449\n",
       "10        12     test  0.787798\n",
       "11        12    train  0.817679\n",
       "12        15      ref  0.759449\n",
       "13        15     test  0.785149\n",
       "14        15    train  0.822849\n",
       "15        20      ref  0.759449\n",
       "16        20     test  0.790620\n",
       "17        20    train  0.822683\n",
       "18        25      ref  0.759449\n",
       "19        25     test  0.795986\n",
       "20        25    train  0.825404\n",
       "21        30      ref  0.759449\n",
       "22        30     test  0.791462\n",
       "23        30    train  0.830859\n",
       "24        40      ref  0.759449\n",
       "25        40     test  0.786862\n",
       "26        40    train  0.835628\n",
       "27        50      ref  0.759449\n",
       "28        50     test  0.783011\n",
       "29        50    train  0.834611\n",
       "30        80      ref  0.759449\n",
       "31        80     test  0.782531\n",
       "32        80    train  0.846469"
      ]
     },
     "execution_count": 45,
     "metadata": {},
     "output_type": "execute_result"
    }
   ],
   "source": [
    "df_melt.groupby(['n_region', 'variable'])['value'].mean().reset_index()"
   ]
  },
  {
   "cell_type": "code",
   "execution_count": 46,
   "id": "9ed9273c",
   "metadata": {},
   "outputs": [],
   "source": [
    "data = df_melt.assign(dataset=df_melt[\"variable\"].map({\"ref\": \"reference\", \"train\": \"training\", \"test\":\"testing\"}))"
   ]
  },
  {
   "cell_type": "code",
   "execution_count": 47,
   "id": "c6a955b7",
   "metadata": {},
   "outputs": [
    {
     "data": {
      "image/png": "[encoded data removed]",
      "text/plain": [
       "<Figure size 1080x432 with 1 Axes>"
      ]
     },
     "metadata": {
      "needs_background": "light"
     },
     "output_type": "display_data"
    }
   ],
   "source": [
    "sns.set_context(\"paper\", font_scale=2)\n",
    "\n",
    "fig, ax = plt.subplots(figsize=(15, 6))\n",
    "sns.lineplot(data=data, x='n_region', y='value', hue='dataset', ax=ax)\n",
    "\n",
    "sns.scatterplot(data = df_melt.groupby(['n_region', 'variable'])['value'].mean().reset_index(),\n",
    "                x='n_region', y='value', hue='variable', ax=ax, legend=False)\n",
    "\n",
    "ax.set_ylabel(\"Correlation\")\n",
    "ax.set_xlabel(\"Number of segments N\")\n",
    "\n",
    "\n",
    "X_star = 25\n",
    "y_star = df.groupby('n_region')['test'].mean().max()\n",
    "ax.plot(X_star, y_star, color='k', marker=\"*\", ms='10')\n",
    "\n",
    "ax.grid()"
   ]
  },
  {
   "cell_type": "code",
   "execution_count": 48,
   "id": "9a0e737f",
   "metadata": {},
   "outputs": [],
   "source": [
    "fig.tight_layout()\n",
    "fig.savefig(\"./figs/temporal_n_region.pdf\")"
   ]
  },
  {
   "cell_type": "code",
   "execution_count": null,
   "id": "137f6170",
   "metadata": {},
   "outputs": [],
   "source": []
  },
  {
   "cell_type": "code",
   "execution_count": null,
   "id": "e3dae1b5",
   "metadata": {},
   "outputs": [],
   "source": []
  }
 ],
 "metadata": {
  "kernelspec": {
   "display_name": "Python 3 (ipykernel)",
   "language": "python",
   "name": "python3"
  },
  "language_info": {
   "codemirror_mode": {
    "name": "ipython",
    "version": 3
   },
   "file_extension": ".py",
   "mimetype": "text/x-python",
   "name": "python",
   "nbconvert_exporter": "python",
   "pygments_lexer": "ipython3",
   "version": "3.7.11"
  }
 },
 "nbformat": 4,
 "nbformat_minor": 5
}
